{
 "cells": [
  {
   "cell_type": "code",
   "execution_count": 6,
   "id": "2ab271f0-beeb-4839-bf72-33554a58c721",
   "metadata": {},
   "outputs": [],
   "source": [
    "from PIL import Image\n",
    "import rasterio as rio\n",
    "from rasterio.plot import reshape_as_image\n",
    "import numpy as np\n",
    "import os"
   ]
  },
  {
   "cell_type": "code",
   "execution_count": null,
   "id": "988619af-558c-47bf-b2a5-7a489ecfe5f2",
   "metadata": {},
   "outputs": [],
   "source": [
    "# Directory containing .tif files\n",
    "input_dir = \"C:/Users/jullian.williams/Desktop/HIRLOMAP/Output/RS2_CLIPPED/\" \n",
    "output_dir = \"C:/Users/jullian.williams/Desktop/HIRLOMAP/JPGs/RS2_CLIPPED_JPG/\"\n",
    "\n",
    "\n",
    "# Ensure output directory exists\n",
    "os.makedirs(output_dir, exist_ok=True)\n",
    "\n",
    "# Loop through all .tif files in the input directory\n",
    "for subdir, _, files in os.walk(input_dir):\n",
    "    for filename in files: \n",
    "        # Check if the file is an image (e.g., .jpg, .png)\n",
    "        if filename.endswith(('.tif')):\n",
    "            input_path = os.path.join(subdir, filename)\n",
    "            output_path = os.path.join(output_dir, filename.replace(\".tif\", \".jpg\"))\n",
    "            \n",
    "# If the folder is not a subfolder situation\n",
    "\n",
    "#for filename in os.listdir(input_dir):\n",
    "#    if filename.endswith(\".tif\"):\n",
    "#        input_path = os.path.join(input_dir, filename)\n",
    "#        output_path = os.path.join(output_dir, filename.replace(\".tif\", \".jpg\"))\n",
    "\n",
    "\n",
    "                # Open the SAR data file (e.g., GeoTIFF format)\n",
    "            with rio.open(input_path) as src:\n",
    "                # Read the data as a NumPy array\n",
    "                sar_data = src.read()\n",
    "                \n",
    "                # Normalize the data for visualization (optional)\n",
    "                sar_data = sar_data.astype(np.float32)\n",
    "                sar_data -= sar_data.min()\n",
    "                sar_data /= sar_data.max()\n",
    "                sar_data *= 255\n",
    "                sar_data = sar_data.astype(np.uint8)\n",
    "            \n",
    "                # Reshape if it's multi-band (e.g., RGB or grayscale)\n",
    "                image_data = sar_data.reshape(-1, sar_data.shape[-1] )\n",
    "                \n",
    "                with rio.open(output_path, 'w', driver='png', height=image_data.shape[0],     \n",
    "                width=image_data.shape[1], count=1, dtype=image_data.dtype) as dst:\n",
    "                    dst.write(image_data, indexes=1)\n"
   ]
  },
  {
   "cell_type": "code",
   "execution_count": null,
   "id": "1057cc6a-b0c5-4e9c-93e2-3e27a6cf5f2d",
   "metadata": {},
   "outputs": [],
   "source": []
  }
 ],
 "metadata": {
  "kernelspec": {
   "display_name": "Python 3 (ipykernel)",
   "language": "python",
   "name": "python3"
  },
  "language_info": {
   "codemirror_mode": {
    "name": "ipython",
    "version": 3
   },
   "file_extension": ".py",
   "mimetype": "text/x-python",
   "name": "python",
   "nbconvert_exporter": "python",
   "pygments_lexer": "ipython3",
   "version": "3.10.13"
  }
 },
 "nbformat": 4,
 "nbformat_minor": 5
}
